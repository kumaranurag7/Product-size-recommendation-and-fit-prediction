{
 "cells": [
  {
   "cell_type": "code",
   "execution_count": 94,
   "metadata": {},
   "outputs": [],
   "source": [
    "# import the modules\n",
    "import pandas as pd\n",
    "import numpy as np\n",
    "import matplotlib.pyplot as plt\n",
    "import seaborn as sns\n",
    "from sklearn.preprocessing import LabelEncoder, StandardScaler\n",
    "from sklearn import metrics\n",
    "from sklearn.model_selection import train_test_split, KFold, ParameterGrid,GridSearchCV, RandomizedSearchCV, cross_val_score\n",
    "from sklearn.feature_selection import RFE\n",
    "\n",
    "from sklearn.linear_model import LogisticRegression\n",
    "from sklearn.tree import DecisionTreeClassifier\n",
    "from sklearn.ensemble import RandomForestClassifier\n",
    "from xgboost import XGBClassifier\n",
    "import warnings\n",
    "warnings.filterwarnings(\"ignore\")"
   ]
  },
  {
   "cell_type": "markdown",
   "metadata": {},
   "source": [
    "### Load the dataset\n",
    "\n",
    "- Load the train data and using all your knowledge try to explore the different statistical properties of the dataset."
   ]
  },
  {
   "cell_type": "code",
   "execution_count": 161,
   "metadata": {
    "scrolled": true
   },
   "outputs": [
    {
     "name": "stdout",
     "output_type": "stream",
     "text": [
      "(66232, 19) Id                    0\n",
      "item_id               0\n",
      "waist             63913\n",
      "size                  0\n",
      "quality              54\n",
      "cup size           4952\n",
      "hips              21332\n",
      "bra size           4752\n",
      "category              0\n",
      "bust              56774\n",
      "height              886\n",
      "user_name             0\n",
      "length               29\n",
      "fit                   0\n",
      "user_id               0\n",
      "shoe size         43918\n",
      "shoe width        51343\n",
      "review_summary     5373\n",
      "review_text        5373\n",
      "dtype: int64\n"
     ]
    }
   ],
   "source": [
    "# Code starts here\n",
    "train = pd.read_csv('train.csv')\n",
    "\n",
    "#Missing Values\n",
    "print(train.shape,train.isnull().sum())\n",
    "train_dropna = train.dropna()\n",
    "# Code ends here"
   ]
  },
  {
   "cell_type": "code",
   "execution_count": 162,
   "metadata": {
    "scrolled": true
   },
   "outputs": [],
   "source": [
    "# Hips missing values imputation\n",
    "def treat_hips(df):\n",
    "    bottoms = df[df.category == 'bottoms']\n",
    "    for i in range(df.shape[0]):\n",
    "        if np.isnan(df.iloc[i,6]):\n",
    "            df.iloc[i,6] = bottoms[bottoms['size'] == df.iloc[i,3]]['hips'].mean()\n",
    "        if np.isnan(df.iloc[i,6]):\n",
    "            if np.isfinite(df.iloc[i,7]):\n",
    "                df.iloc[i,6] = bottoms[bottoms['bra size'] == df.iloc[i,7]]['hips'].mean()\n",
    "        if np.isnan(df.iloc[i,6]):\n",
    "            df.iloc[i,6] = bottoms[bottoms['height'] == df.iloc[i,10]]['hips'].mean()      \n",
    "        if np.isnan(df.iloc[i,6]):\n",
    "            df.hips.fillna(df.hips.mean(),inplace = True)\n",
    "\n",
    "    df.hips = df.hips.apply(lambda x: round(x,2))\n",
    "    return df\n",
    "train = treat_hips(train)"
   ]
  },
  {
   "cell_type": "code",
   "execution_count": 163,
   "metadata": {
    "scrolled": true
   },
   "outputs": [],
   "source": [
    "# bra size missing values imputation\n",
    "def treat_brasize(df):\n",
    "    tops = df[df.category == 'tops']\n",
    "    tops['hips'] = tops['hips'].apply(lambda x: round(x))\n",
    "    for i in range(df.shape[0]):\n",
    "        if np.isnan(df.iloc[i,7]):\n",
    "            if pd.isnull(df.iloc[i,9]):\n",
    "                pass\n",
    "            else:\n",
    "                df.iloc[i,7] = tops[tops['bust'] == df.iloc[i,9]]['hips'].mean()\n",
    "        if np.isnan(df.iloc[i,7]):\n",
    "            if pd.isnull(df.iloc[i,2]):\n",
    "                pass\n",
    "            else:\n",
    "                df.iloc[i,7] = tops[tops['waist'] == df.iloc[i,2]]['hips'].mean()\n",
    "        if np.isnan(df.iloc[i,7]):\n",
    "            if pd.isnull(df.iloc[i,6]):\n",
    "                pass\n",
    "            else:\n",
    "                df.iloc[i,7] = tops[tops['hips'] == round(df.iloc[i,6])]['hips'].mean()\n",
    "    return df\n",
    "train = treat_brasize(train)"
   ]
  },
  {
   "cell_type": "code",
   "execution_count": 164,
   "metadata": {
    "scrolled": true
   },
   "outputs": [],
   "source": [
    "# cup size missing values imputation\n",
    "def treat_cupsize(df):\n",
    "    tops = df[df.category == 'tops']\n",
    "    tops['bra size'] = tops['bra size'].apply(lambda x: round(x))\n",
    "    for i in range(df.shape[0]):\n",
    "        if pd.isnull(df.iloc[i,5]):\n",
    "            if df[df['bra size'] == round(df.iloc[i,7])]['cup size'].mode().shape[0] > 0:\n",
    "                df.iloc[i,5] = df[df['bra size'] == round(df.iloc[i,7])]['cup size'].mode()[0]\n",
    "\n",
    "        if pd.isnull(df.iloc[i,5]):\n",
    "            if tops[tops['size'] == round(df.iloc[i,3])]['cup size'].mode().shape[0] > 0:\n",
    "                df.iloc[i,5] = tops[tops['size'] == round(df.iloc[i,3])]['cup size'].mode()[0]\n",
    "\n",
    "    for i in range(df.shape[0]):\n",
    "        if pd.isnull(df.iloc[i,5]):\n",
    "            if df[df['bra size'] == round(df.iloc[i,7])]['cup size'].mode().shape[0] > 0:\n",
    "                df.iloc[i,5] = df[df['bra size'] == round(df.iloc[i,7])]['cup size'].mode()[0]\n",
    "    return df\n",
    "train = treat_cupsize(train)"
   ]
  },
  {
   "cell_type": "code",
   "execution_count": 165,
   "metadata": {
    "scrolled": true
   },
   "outputs": [],
   "source": [
    "# Quality missing values imputation\n",
    "def treat_quality(df):\n",
    "    for i in range(df.shape[0]):\n",
    "        if pd.isnull(df.iloc[i,4]):\n",
    "            df.iloc[i,4] = df[df['item_id'] == round(df.iloc[i,1])]['quality'].mean()\n",
    "\n",
    "        if pd.isnull(df.iloc[i,4]):\n",
    "            df.iloc[i,4] = df[df['category'] == df.iloc[i,8]]['quality'].mean()\n",
    "    return(df)\n",
    "train = treat_quality(train)"
   ]
  },
  {
   "cell_type": "code",
   "execution_count": 166,
   "metadata": {
    "scrolled": false
   },
   "outputs": [],
   "source": [
    "# length missing values imputation \n",
    "def treat_length(df):\n",
    "    for i in range(df.shape[0]):\n",
    "        if pd.isnull(df.iloc[i,12]):\n",
    "            if (len(df[(df['height'] == df.iloc[i,10]) & (df['size'] == df.iloc[i,3])]['length'])) > 0:\n",
    "                df.iloc[i,12] = df[(df['height'] == df.iloc[i,10]) & (df['size'] == df.iloc[i,3])]['length'].mode()[0]\n",
    "            else:\n",
    "                df.iloc[i,12] = df.iloc[:,12].mode()[0]\n",
    "                \n",
    "    return(df)\n",
    "train = treat_length(train)"
   ]
  },
  {
   "cell_type": "code",
   "execution_count": 167,
   "metadata": {
    "scrolled": true
   },
   "outputs": [],
   "source": [
    "# height\n",
    "def treat_height(df):\n",
    "    for i in range(df.shape[0]):\n",
    "        if pd.isnull(df.iloc[i,10]):\n",
    "            if (len(df[(df['length'] == df.iloc[i,12]) & (df['size'] == df.iloc[i,3])]['height'])) > 0:\n",
    "                df.iloc[i,10] = df[(df['length'] == df.iloc[i,12]) & (df['size'] == df.iloc[i,3])]['height'].mode()[0]\n",
    "    return df\n",
    "train = treat_height(train)"
   ]
  },
  {
   "cell_type": "code",
   "execution_count": 168,
   "metadata": {},
   "outputs": [],
   "source": [
    "#drop columns\n",
    "def drop_cols(df):\n",
    "    df.drop(['Id','item_id','waist','bust','user_name','user_id','shoe size','shoe width','review_summary','review_text'],axis = 1, inplace = True)\n",
    "    return df\n",
    "train = drop_cols(train)"
   ]
  },
  {
   "cell_type": "code",
   "execution_count": 169,
   "metadata": {},
   "outputs": [],
   "source": [
    "# convert hight to inch\n",
    "def convert_height(df):\n",
    "    for i in range(df.shape[0]):\n",
    "        o_height = df.iloc[i,6].split()\n",
    "        if len(o_height) == 2:\n",
    "            if len(o_height[1]) == 4:\n",
    "                n_height = int(o_height[0][0]) * 12 + int(o_height[1][0:2])\n",
    "            else:\n",
    "                n_height = int(o_height[0][0]) * 12 + int(o_height[1][0])\n",
    "        else:\n",
    "            n_height = int(o_height[0][0]) * 12\n",
    "\n",
    "        df.iloc[i,6] = n_height\n",
    "    return df\n",
    "train = convert_height(train)"
   ]
  },
  {
   "cell_type": "markdown",
   "metadata": {},
   "source": [
    "### Visualize the data\n",
    "\n",
    "- Check for the categorical & continuous features. \n",
    "- Check out the best plots for plotting between categorical target and continuous features and try making some inferences from these plots.\n",
    "- Clean the data, apply some data preprocessing and engineering techniques."
   ]
  },
  {
   "cell_type": "code",
   "execution_count": 112,
   "metadata": {},
   "outputs": [
    {
     "data": {
      "image/png": "[encoded data removed]",
      "text/plain": [
       "<Figure size 720x432 with 1 Axes>"
      ]
     },
     "metadata": {
      "needs_background": "light"
     },
     "output_type": "display_data"
    }
   ],
   "source": [
    "# Most common Heights\n",
    "train['height'].value_counts()[:8].plot(kind = 'bar', figsize = (10,6))\n",
    "plt.tight_layout()"
   ]
  },
  {
   "cell_type": "code",
   "execution_count": 159,
   "metadata": {},
   "outputs": [
    {
     "data": {
      "text/plain": [
       "<matplotlib.legend.Legend at 0x295b5fdca88>"
      ]
     },
     "execution_count": 159,
     "metadata": {},
     "output_type": "execute_result"
    },
    {
     "data": {
      "image/png": "[encoded data removed]",
      "text/plain": [
       "<Figure size 1080x576 with 1 Axes>"
      ]
     },
     "metadata": {
      "needs_background": "light"
     },
     "output_type": "display_data"
    }
   ],
   "source": [
    "# Body measurements are proportional\n",
    "plt.figure(figsize = (15,8))\n",
    "train.dropna().waist.plot()\n",
    "train.dropna().hips.plot()\n",
    "train.dropna()['bra size'].plot()\n",
    "plt.xlim(2000,6000)\n",
    "plt.xlabel('records', fontsize = 20)\n",
    "plt.ylabel('Inch',  fontsize = 20)\n",
    "plt.legend(fontsize = 20)"
   ]
  },
  {
   "cell_type": "code",
   "execution_count": 148,
   "metadata": {},
   "outputs": [
    {
     "name": "stdout",
     "output_type": "stream",
     "text": [
      "Dress id  Number\n"
     ]
    },
    {
     "data": {
      "text/plain": [
       "539980    1630\n",
       "668696    1245\n",
       "397005    1199\n",
       "175771    1140\n",
       "407134    1115\n",
       "391519     995\n",
       "412737     985\n",
       "169727     869\n",
       "486643     822\n",
       "210299     814\n",
       "Name: item_id, dtype: int64"
      ]
     },
     "execution_count": 148,
     "metadata": {},
     "output_type": "execute_result"
    }
   ],
   "source": [
    "#Most common Dresses\n",
    "print('Dress id  Number')\n",
    "train.item_id.value_counts()[:10]"
   ]
  },
  {
   "cell_type": "code",
   "execution_count": 101,
   "metadata": {
    "scrolled": true
   },
   "outputs": [
    {
     "data": {
      "text/plain": [
       "cup size  bra size\n",
       "b         34.0        4985\n",
       "c         36.0        4510\n",
       "          34.0        4256\n",
       "d         36.0        3451\n",
       "b         36.0        3275\n",
       "d         34.0        3121\n",
       "c         38.0        2609\n",
       "d         38.0        2368\n",
       "dd/e      36.0        2252\n",
       "a         34.0        2087\n",
       "dd/e      34.0        2007\n",
       "          38.0        1860\n",
       "b         32.0        1749\n",
       "c         32.0        1693\n",
       "d         32.0        1472\n",
       "          40.0        1206\n",
       "dd/e      32.0        1130\n",
       "b         38.0        1119\n",
       "dd/e      40.0        1024\n",
       "ddd/f     38.0         921\n",
       "Name: bra size, dtype: int64"
      ]
     },
     "execution_count": 101,
     "metadata": {},
     "output_type": "execute_result"
    }
   ],
   "source": [
    "# Cupsize vs Brasize\n",
    "train.groupby('cup size')['bra size'].value_counts().sort_values(ascending = False)[:20]\n",
    "#plt.ylabel()"
   ]
  },
  {
   "cell_type": "code",
   "execution_count": 93,
   "metadata": {
    "scrolled": false
   },
   "outputs": [
    {
     "data": {
      "text/plain": [
       "<matplotlib.axes._subplots.AxesSubplot at 0x295a73ce8c8>"
      ]
     },
     "execution_count": 93,
     "metadata": {},
     "output_type": "execute_result"
    },
    {
     "data": {
      "image/png": "[encoded data removed]",
      "text/plain": [
       "<Figure size 432x288 with 1 Axes>"
      ]
     },
     "metadata": {
      "needs_background": "light"
     },
     "output_type": "display_data"
    }
   ],
   "source": [
    "# Most of the dresses fit well\n",
    "train.groupby('length')['fit'].value_counts().plot(kind = 'bar')\n",
    "plt.title('No. of dress vs Kind of fit & length')"
   ]
  },
  {
   "cell_type": "code",
   "execution_count": 170,
   "metadata": {},
   "outputs": [],
   "source": [
    "#label encoding\n",
    "def encode_cols(df):\n",
    "    cols = ['cup size', 'category', 'length']\n",
    "    for i in cols:\n",
    "        dum = pd.get_dummies(df[i], drop_first = True, prefix=i, prefix_sep='_',)\n",
    "        df = df.join(dum)\n",
    "        df.drop(i,axis = 1, inplace = True)\n",
    "    return(df)\n",
    "train = encode_cols(train)"
   ]
  },
  {
   "cell_type": "code",
   "execution_count": 171,
   "metadata": {},
   "outputs": [],
   "source": [
    "# encode target\n",
    "train.fit = train.fit.apply(lambda x : 0 if x == 'small' else (1 if x == 'fit' else 2))"
   ]
  },
  {
   "cell_type": "markdown",
   "metadata": {},
   "source": [
    "### Model building\n",
    "\n",
    "- Split the data into train and test.\n",
    "- Now let's come to the actual task, predict the values of `fit` after building a Machine learning model.\n",
    "- Try improving upon the `accuracy_score` ([Accuracy Score](https://scikit-learn.org/stable/modules/generated/sklearn.metrics.accuracy_score.html))"
   ]
  },
  {
   "cell_type": "code",
   "execution_count": 24,
   "metadata": {},
   "outputs": [],
   "source": [
    "# Separate Target\n",
    "X = train.drop('fit', axis = 1)\n",
    "y = train['fit'].copy()\n",
    "\n",
    "# feature scaling\n",
    "ss = StandardScaler()\n",
    "X = ss.fit_transform(X)"
   ]
  },
  {
   "cell_type": "code",
   "execution_count": 25,
   "metadata": {},
   "outputs": [],
   "source": [
    "# split the data\n",
    "xtrain,xtest,ytrain,ytest = train_test_split(X,y,test_size = 0.3)"
   ]
  },
  {
   "cell_type": "code",
   "execution_count": 26,
   "metadata": {},
   "outputs": [
    {
     "data": {
      "text/plain": [
       "'without rfe\\nFor lr : 0.6984690179973426\\nFor dt : 0.5709022828844064\\nFor RandomForestRegressor : 0.6607078149534968\\nFor xgb : 0.6981217538350042'"
      ]
     },
     "execution_count": 26,
     "metadata": {},
     "output_type": "execute_result"
    }
   ],
   "source": [
    "# cross validation\n",
    "lr_cv = LogisticRegression()\n",
    "dt_cv = DecisionTreeClassifier()\n",
    "rf_cv = RandomForestClassifier()\n",
    "xgb_cv = XGBClassifier()\n",
    "\n",
    "cv_lr = cross_val_score(lr_cv, X, y, cv = 8, scoring = 'accuracy').mean()\n",
    "print('For lr :', cv_lr)\n",
    "cv_dt = cross_val_score(dt_cv, X, y, cv = 8, scoring = 'accuracy').mean()\n",
    "print('For dt :', cv_dt)\n",
    "cv_rf = cross_val_score(rf_cv, X, y, cv = 8, scoring = 'accuracy').mean()\n",
    "print('For RandomForestRegressor :', cv_rf)\n",
    "cv_xgb = cross_val_score(xgb_cv, X, y, cv = 8, scoring = 'accuracy').mean()\n",
    "print('For xgb :', cv_xgb)"
   ]
  },
  {
   "cell_type": "code",
   "execution_count": 27,
   "metadata": {},
   "outputs": [
    {
     "data": {
      "text/plain": [
       "\"lr = LogisticRegression()\\n\\nparam_grid = {'penalty' : ['l1', 'l2'],\\n    'C' : np.logspace(-4, 4, 20),\\n    'solver' : ['liblinear','newton-cg', 'lbfgs', 'liblinear']}\\n    \\nlr_ht = GridSearchCV(lr, param_grid = param_grid, cv = 5, verbose=True, n_jobs=-1)\\nlr_ht.fit(xtrain, ytrain)\\n\\nprint(lr_ht.best_params_)\\nprint(lr_ht.best_score_)\""
      ]
     },
     "execution_count": 27,
     "metadata": {},
     "output_type": "execute_result"
    }
   ],
   "source": [
    "# Logistic Regression\n",
    "lr = LogisticRegression()\n",
    "\n",
    "param_grid = {'penalty' : ['l1', 'l2'],\n",
    "    'C' : np.logspace(-4, 4, 20),\n",
    "    'solver' : ['liblinear','newton-cg', 'lbfgs', 'liblinear']}\n",
    "    \n",
    "lr_ht = GridSearchCV(lr, param_grid = param_grid, cv = 5, verbose=True, n_jobs=-1)\n",
    "lr_ht.fit(xtrain, ytrain)\n",
    "\n",
    "print(lr_ht.best_params_)\n",
    "print(lr_ht.best_score_)"
   ]
  },
  {
   "cell_type": "code",
   "execution_count": 28,
   "metadata": {},
   "outputs": [
    {
     "name": "stdout",
     "output_type": "stream",
     "text": [
      "Fitting 5 folds for each of 1 candidates, totalling 5 fits\n"
     ]
    },
    {
     "name": "stderr",
     "output_type": "stream",
     "text": [
      "[Parallel(n_jobs=-1)]: Using backend LokyBackend with 4 concurrent workers.\n",
      "[Parallel(n_jobs=-1)]: Done   5 out of   5 | elapsed: 12.9min finished\n"
     ]
    },
    {
     "name": "stdout",
     "output_type": "stream",
     "text": [
      "{'colsample_bytree': 0.5, 'gamma': 0, 'learning_rate': 0.01, 'max_depth': 2, 'min_child_weight': 4, 'n_estimators': 5500, 'reg_alpha': 0.005, 'subsample': 0.9}\n",
      "0.6987404124548368\n"
     ]
    }
   ],
   "source": [
    "# XGBClassifier hyperparameter tuning\n",
    "xgb = XGBClassifier()\n",
    "param_xgb = {\n",
    "    'max_depth' : [2],\n",
    "    'min_child_weight' : [4],\n",
    "    'n_estimators' : [5500], #85\n",
    "    'gamma' : [0],\n",
    "    'subsample':[0.9],\n",
    "    'colsample_bytree':[0.5],\n",
    "    'reg_alpha':[0.005],\n",
    "    'learning_rate' : [0.01]\n",
    "}\n",
    "\n",
    "xgb_ht = GridSearchCV(xgb, param_grid = param_xgb, cv = 5, verbose=True, n_jobs=-1)\n",
    "xgb_ht.fit(xtrain,ytrain)\n",
    "\n",
    "print(xgb_ht.best_params_)\n",
    "print(xgb_ht.best_score_)"
   ]
  },
  {
   "cell_type": "markdown",
   "metadata": {},
   "source": [
    "### Prediction on the test data and creating the sample submission file.\n",
    "\n",
    "- Load the test data and store the `Id` column in a separate variable.\n",
    "- Perform the same operations on the test data that you have performed on the train data.\n",
    "- Create the submission file as a `csv` file consisting of the `Id` column from the test data and your prediction as the second column."
   ]
  },
  {
   "cell_type": "code",
   "execution_count": 54,
   "metadata": {},
   "outputs": [],
   "source": [
    "# Function to preprocess testing data\n",
    "def format_data(test):\n",
    "    test = treat_hips(test)\n",
    "    test = treat_brasize(test)\n",
    "    test = treat_cupsize(test)\n",
    "    test = treat_quality(test)\n",
    "    test = treat_length(test)\n",
    "    test = treat_height(test)\n",
    "    test = drop_cols(test)\n",
    "    test = convert_height(test)\n",
    "    test = encode_cols(test)\n",
    "    test = ss.fit_transform(test)\n",
    "    return test"
   ]
  },
  {
   "cell_type": "code",
   "execution_count": 57,
   "metadata": {
    "scrolled": true
   },
   "outputs": [],
   "source": [
    "# Import & treat test data\n",
    "test = pd.read_csv('test.csv')\n",
    "testid = test['Id'].copy()\n",
    "\n",
    "test = format_data(test)"
   ]
  },
  {
   "cell_type": "code",
   "execution_count": 43,
   "metadata": {},
   "outputs": [],
   "source": [
    "#Predict Fit for testing data\n",
    "result = xgb_ht.predict(test)"
   ]
  },
  {
   "cell_type": "code",
   "execution_count": 46,
   "metadata": {},
   "outputs": [],
   "source": [
    "# Reverse encoding predicted values\n",
    "sub1 = []\n",
    "for i in range(len(result)):\n",
    "    sub1.append('small' if result[i] == 0 else ('fit' if result[i] == 1 else 'large'))"
   ]
  },
  {
   "cell_type": "code",
   "execution_count": 49,
   "metadata": {},
   "outputs": [],
   "source": [
    "# Save file for submission\n",
    "subm = pd.DataFrame({'Id':testid,'fit':sub1})\n",
    "#subm.to_csv('sub1.csv', index = False)"
   ]
  },
  {
   "cell_type": "code",
   "execution_count": null,
   "metadata": {},
   "outputs": [],
   "source": []
  }
 ],
 "metadata": {
  "kernelspec": {
   "display_name": "Python 3",
   "language": "python",
   "name": "python3"
  },
  "language_info": {
   "codemirror_mode": {
    "name": "ipython",
    "version": 3
   },
   "file_extension": ".py",
   "mimetype": "text/x-python",
   "name": "python",
   "nbconvert_exporter": "python",
   "pygments_lexer": "ipython3",
   "version": "3.7.6"
  }
 },
 "nbformat": 4,
 "nbformat_minor": 2
}
